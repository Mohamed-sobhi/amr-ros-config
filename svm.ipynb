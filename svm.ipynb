{
  "nbformat": 4,
  "nbformat_minor": 0,
  "metadata": {
    "colab": {
      "name": "svm.ipynb",
      "version": "0.3.2",
      "provenance": [],
      "include_colab_link": true
    },
    "kernelspec": {
      "name": "python3",
      "display_name": "Python 3"
    },
    "accelerator": "GPU"
  },
  "cells": [
    {
      "cell_type": "markdown",
      "metadata": {
        "id": "view-in-github",
        "colab_type": "text"
      },
      "source": [
        "<a href=\"https://colab.research.google.com/github/Mohamed-sobhi/amr-ros-config/blob/master/svm.ipynb\" target=\"_parent\"><img src=\"https://colab.research.google.com/assets/colab-badge.svg\" alt=\"Open In Colab\"/></a>"
      ]
    },
    {
      "metadata": {
        "id": "lBdACDVuNGwW",
        "colab_type": "code",
        "colab": {
          "resources": {
            "http://localhost:8080/nbextensions/google.colab/files.js": {
              "data": "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",
              "ok": true,
              "headers": [
                [
                  "content-type",
                  "application/javascript"
                ]
              ],
              "status": 200,
              "status_text": ""
            }
          },
          "base_uri": "https://localhost:8080/",
          "height": 74
        },
        "outputId": "051665cd-e015-486b-c8c0-ec01f3fd81d5"
      },
      "cell_type": "code",
      "source": [
        "from google.colab import files\n",
        "Uploadedfile=files.upload()"
      ],
      "execution_count": 2,
      "outputs": [
        {
          "output_type": "display_data",
          "data": {
            "text/html": [
              "\n",
              "     <input type=\"file\" id=\"files-a39aace7-b0d6-4414-8930-36aa1bc14548\" name=\"files[]\" multiple disabled />\n",
              "     <output id=\"result-a39aace7-b0d6-4414-8930-36aa1bc14548\">\n",
              "      Upload widget is only available when the cell has been executed in the\n",
              "      current browser session. Please rerun this cell to enable.\n",
              "      </output>\n",
              "      <script src=\"/nbextensions/google.colab/files.js\"></script> "
            ],
            "text/plain": [
              "<IPython.core.display.HTML object>"
            ]
          },
          "metadata": {
            "tags": []
          }
        },
        {
          "output_type": "stream",
          "text": [
            "Saving ReducedMNIST.mat to ReducedMNIST (2).mat\n"
          ],
          "name": "stdout"
        }
      ]
    },
    {
      "metadata": {
        "id": "7WAa7ZQ1PW9a",
        "colab_type": "code",
        "colab": {}
      },
      "cell_type": "code",
      "source": [
        "#Let's start by importing analysis and plotting libraries\n",
        "\n",
        "import pandas as pd\n",
        "import numpy as np\n",
        "import matplotlib.pyplot as plt\n",
        "import seaborn as sns\n",
        "import scipy\n",
        "import math\n",
        "import cv2\n",
        "import time\n",
        "from sklearn import datasets, svm, metrics\n",
        "%matplotlib inline\n",
        "\n",
        "from zigzag import *\n",
        "\n",
        "from sklearn import preprocessing\n",
        "\n",
        "import scipy.io as sio\n",
        "Data = sio.loadmat('/content/ReducedMNIST.mat')"
      ],
      "execution_count": 0,
      "outputs": []
    },
    {
      "metadata": {
        "id": "BxB5ZaNXPe9Y",
        "colab_type": "code",
        "colab": {
          "base_uri": "https://localhost:8080/",
          "height": 54
        },
        "outputId": "f170107f-d278-495c-b549-67d988c735b0"
      },
      "cell_type": "code",
      "source": [
        "#Doing some data inspection and checking\n",
        "\n",
        "\"\"\"\n",
        "Data\n",
        "type(Data)\n",
        "type(Data['SmallTestData'])\n",
        "Data['SmallTestData'][0][0].shape\n",
        "plt.imshow(Data['SmallTestData'][4][0][3])\n",
        "plt.imshow(Data['SmallTestData'][0][0][1])\n",
        "Data['SmallTrainData'][0][0].shape\n",
        "\n",
        "\"\"\""
      ],
      "execution_count": 4,
      "outputs": [
        {
          "output_type": "execute_result",
          "data": {
            "text/plain": [
              "\"\\nData\\ntype(Data)\\ntype(Data['SmallTestData'])\\nData['SmallTestData'][0][0].shape\\nplt.imshow(Data['SmallTestData'][4][0][3])\\nplt.imshow(Data['SmallTestData'][0][0][1])\\nData['SmallTrainData'][0][0].shape\\n\\n\""
            ]
          },
          "metadata": {
            "tags": []
          },
          "execution_count": 4
        }
      ]
    },
    {
      "metadata": {
        "id": "CaGppdynPiEo",
        "colab_type": "code",
        "colab": {}
      },
      "cell_type": "code",
      "source": [
        "#Initializing Dataframes and checking\n",
        "\n",
        "\n",
        "Int_test_Dataset=np.zeros([10,100,784])\n",
        "for itemvar1 in range(10):\n",
        "  for itemvar2 in range(100):\n",
        "      Dummy_val=np.zeros([784])\n",
        "      Dummy_val= Data['SmallTestData'][itemvar1][0][itemvar2].reshape(1,784)\n",
        "      Dummy_val=preprocessing.normalize(Dummy_val)\n",
        "      Int_test_Dataset[itemvar1][itemvar2]= Dummy_val\n",
        "      \n",
        "Int_train_Dataset=np.zeros([10,1000,784])\n",
        "for itemvar3 in range(10):\n",
        "  for itemvar4 in range(1000):\n",
        "    Dummy_val=np.zeros([784])\n",
        "    Dummy_val= Data['SmallTrainData'][itemvar3][0][itemvar4].reshape(1,784)\n",
        "    Dummy_val=preprocessing.normalize(Dummy_val)\n",
        "    Int_train_Dataset[itemvar3][itemvar4]= Dummy_val\n",
        "\n",
        "#plt.imshow(Int_test_Dataset[0][0].reshape(28,28))\n",
        "#plt.imshow(Int_train_Dataset[4][90].reshape(28,28))\n",
        "\n",
        "\n",
        "Int_train_DataFrame = pd.Panel(Int_train_Dataset).transpose(2,0,1).to_frame()\n",
        "Int_test_DataFrame = pd.Panel(Int_test_Dataset).transpose(2,0,1).to_frame()\n",
        "\n",
        "#Int_train_DataFrame\n",
        "#plt.imshow(Int_train_DataFrame.loc[0].loc[0].values.reshape(28,28))\n",
        "#plt.imshow(Int_test_DataFrame.loc[8].loc[80].values.reshape(28,28))"
      ],
      "execution_count": 0,
      "outputs": []
    },
    {
      "metadata": {
        "id": "Z_zEv-vUPoqg",
        "colab_type": "code",
        "colab": {}
      },
      "cell_type": "code",
      "source": [
        "#Getting DCT features of 80 dimensions of the whole trainig and test sets using Block based zigzag appraoch\n",
        "#Which means that we will divide each picture to blocks and get the DCT of each block\n",
        "\n",
        "#Defining block size and getting dimensions, Block size must be even number for DCT\n",
        "Block_Size = 14   \n",
        "\n",
        "#Choosing Block size to be 14*14*4=784 i.e no zero padding for DCT is required as 28*28=784\n",
        "height= 28.0\n",
        "width = 28.0\n",
        "\n",
        "#Getting number of blocks from height and width\n",
        "NumHB = math.ceil(height/Block_Size)\n",
        "NumHB = np.int32(NumHB)\n",
        "NumWB = math.ceil(width/Block_Size)\n",
        "NumWB = np.int32(NumWB)\n"
      ],
      "execution_count": 0,
      "outputs": []
    },
    {
      "metadata": {
        "id": "vJ1YS9D4P0WQ",
        "colab_type": "code",
        "colab": {}
      },
      "cell_type": "code",
      "source": [
        "DCT_train_Coeff=np.zeros([10,1000,80])\n",
        "DCT_test_Coeff=np.zeros([10,100,80])\n",
        "\n",
        "Dummy_val=0\n",
        "\n",
        "for itemvar1 in range(10):\n",
        "  for itemvar2 in range(1000):\n",
        "    \n",
        "    Dummy_val=0\n",
        "    \n",
        "    Img = Int_train_DataFrame.loc[itemvar1].loc[itemvar2].values.reshape(28,28)\n",
        "                \n",
        "    #plt.imshow((Padded_Img))\n",
        "                \n",
        "    #Getting DCT for each block \n",
        "    for itemvar3 in range(NumHB):\n",
        "         \n",
        "    # Compute start and end row index of the block\n",
        "      Row_Ind_Start = itemvar3*Block_Size\n",
        "      Row_Ind_End = Row_Ind_Start+Block_Size\n",
        "\n",
        "      for itemvar4 in range(NumWB):\n",
        "        \n",
        "        Dummy_val+=1\n",
        "             \n",
        "        # Compute start and end col index of the block\n",
        "        col_Ind_Start = itemvar4*Block_Size\n",
        "        col_Ind_End = col_Ind_Start+Block_Size\n",
        "                   \n",
        "        # Apply 2D discrete cosine transform to the selected block\n",
        "        Block = Img[ Row_Ind_Start : Row_Ind_End , col_Ind_Start : col_Ind_End ]\n",
        "        DCT = cv2.dct(Block)\n",
        "\n",
        "        # Reorder DCT coefficients in zig zag order by calling zigzag function giving one dimensional array\n",
        "        Reordered_Coeff = zigzag(DCT)\n",
        "\n",
        "        DCT_train_Coeff[itemvar1][itemvar2][(Dummy_val-1)*20 : 20+(Dummy_val-1)*20] =  Reordered_Coeff[0:20]  \n",
        "        \n",
        "for itemvar1 in range(10):\n",
        "  for itemvar2 in range(100):\n",
        "    \n",
        "    Dummy_val=0\n",
        "    \n",
        "    Img = Int_test_DataFrame.loc[itemvar1].loc[itemvar2].values.reshape(28,28)\n",
        "                \n",
        "    #plt.imshow((Padded_Img))\n",
        "                \n",
        "    #Getting DCT for each block \n",
        "    for itemvar3 in range(NumHB):\n",
        "         \n",
        "    # Compute start and end row index of the block\n",
        "      Row_Ind_Start = itemvar3*Block_Size\n",
        "      Row_Ind_End = Row_Ind_Start+Block_Size\n",
        "\n",
        "      for itemvar4 in range(NumWB):\n",
        "        \n",
        "        Dummy_val+=1\n",
        "             \n",
        "        # Compute start and end col index of the block\n",
        "        col_Ind_Start = itemvar4*Block_Size\n",
        "        col_Ind_End = col_Ind_Start+Block_Size\n",
        "                   \n",
        "        # Apply 2D discrete cosine transform to the selected block\n",
        "        Block = Img[ Row_Ind_Start : Row_Ind_End , col_Ind_Start : col_Ind_End ]\n",
        "        DCT = cv2.dct(Block)\n",
        "\n",
        "        # Reorder DCT coefficients in zig zag order by calling zigzag function giving one dimensional array\n",
        "        Reordered_Coeff = zigzag(DCT)\n",
        "\n",
        "        DCT_test_Coeff[itemvar1][itemvar2][(Dummy_val-1)*20 : 20+(Dummy_val-1)*20] =  Reordered_Coeff[0:20]                  \n",
        " "
      ],
      "execution_count": 0,
      "outputs": []
    },
    {
      "metadata": {
        "id": "yCtSFa9dP8K4",
        "colab_type": "code",
        "colab": {}
      },
      "cell_type": "code",
      "source": [
        "#Getting DataFrame of DCT coefficients and checking\n",
        "\n",
        "#DCT_train_Coeff[9][999]\n",
        "\n",
        "DCT_test_Coeff_DataFrame = pd.Panel(DCT_test_Coeff).transpose(2,0,1).to_frame()\n",
        "DCT_train_Coeff_DataFrame = pd.Panel(DCT_train_Coeff).transpose(2,0,1).to_frame()\n",
        "\n",
        "#DCT_train_Coeff_DataFrame\n"
      ],
      "execution_count": 0,
      "outputs": []
    },
    {
      "metadata": {
        "id": "RAEChvgPP_iU",
        "colab_type": "code",
        "colab": {
          "base_uri": "https://localhost:8080/",
          "height": 437
        },
        "outputId": "ce359ce5-660e-4b9b-9c97-4f1102d3b877"
      },
      "cell_type": "code",
      "source": [
        "#Applying PCA on train data\n",
        "#Importing libraries for PCA analysis\n",
        "\n",
        "from sklearn.decomposition import PCA\n",
        "\n",
        "#Using elbow method to find number of components such that variance doesnt' go below 95%\n",
        "\n",
        "Variance=[]\n",
        "\n",
        "for tempvar1 in range(100,160):\n",
        "    pca=PCA(n_components=tempvar1,svd_solver='full')\n",
        "    pca.fit(Int_train_DataFrame)\n",
        "    Variance.append(pca.explained_variance_ratio_.sum())\n",
        "    \n",
        "plt.figure(figsize=(10,6))\n",
        "plt.plot(range(100,160),Variance,color='blue', linestyle='dashed', marker='o',markerfacecolor='red', markersize=10)\n",
        "plt.title('Variance vs. Number of components')\n",
        "plt.xlabel('No. of N')\n",
        "plt.ylabel('Variance')\n",
        "\n",
        "\n",
        "#Number of featuers equal 159 for best variance result, now getting the coefficients\n",
        "pca=PCA(n_components=159,svd_solver='full')\n",
        "pca.fit(Int_train_DataFrame)\n"
      ],
      "execution_count": 9,
      "outputs": [
        {
          "output_type": "execute_result",
          "data": {
            "text/plain": [
              "PCA(copy=True, iterated_power='auto', n_components=159, random_state=None,\n",
              "  svd_solver='full', tol=0.0, whiten=False)"
            ]
          },
          "metadata": {
            "tags": []
          },
          "execution_count": 9
        },
        {
          "output_type": "display_data",
          "data": {
            "image/png": "[encoded data removed]",
            "text/plain": [
              "<Figure size 720x432 with 1 Axes>"
            ]
          },
          "metadata": {
            "tags": []
          }
        }
      ]
    },
    {
      "metadata": {
        "id": "smWAFkw1QDe6",
        "colab_type": "code",
        "colab": {
          "base_uri": "https://localhost:8080/",
          "height": 34
        },
        "outputId": "1619a2bf-39af-4807-f92e-c759c812ae51"
      },
      "cell_type": "code",
      "source": [
        "#Just Checking\n",
        "print(pca.explained_variance_ratio_.sum()) "
      ],
      "execution_count": 10,
      "outputs": [
        {
          "output_type": "stream",
          "text": [
            "0.9501267508801964\n"
          ],
          "name": "stdout"
        }
      ]
    },
    {
      "metadata": {
        "id": "JRD1VFdSQKk5",
        "colab_type": "code",
        "colab": {}
      },
      "cell_type": "code",
      "source": [
        "#Getting DataFrame of PCA coefficients for test and train data and checking\n",
        "\n",
        "PCA_train_Coeff=pca.transform(Int_train_DataFrame)\n",
        "PCA_train_Coeff_DataFrame = pd.DataFrame(PCA_train_Coeff)\n",
        "\n",
        "pca.fit(Int_test_DataFrame)\n",
        "PCA_test_Coeff=pca.transform(Int_test_DataFrame)\n",
        "PCA_test_Coeff_DataFrame = pd.DataFrame(PCA_test_Coeff)\n",
        "\n",
        "\n",
        "#PCA_train_Coeff_DataFrame.loc[1:2].values"
      ],
      "execution_count": 0,
      "outputs": []
    },
    {
      "metadata": {
        "id": "3AxOpTo4zTpQ",
        "colab_type": "code",
        "colab": {}
      },
      "cell_type": "code",
      "source": [
        "#create data labels \n",
        "Datatrain_label=np.zeros((10000))\n",
        "Datatest_label=np.zeros((1000))\n",
        "for i in range(10):\n",
        "  for j in range(1000):\n",
        "    Datatrain_label[j+(1000*i)]=i\n",
        "for i in range(10):\n",
        "  for j in range(100):\n",
        "    Datatest_label[j+(100*i)]=i\n",
        "#Datatrain_label=np.reshape(Datatrain_label,(10000,1))\n",
        "#Datatest_label=np.reshape(Datatest_label,(1000,1))\n"
      ],
      "execution_count": 0,
      "outputs": []
    },
    {
      "metadata": {
        "id": "B9XH_lIXQNXA",
        "colab_type": "code",
        "colab": {
          "base_uri": "https://localhost:8080/",
          "height": 252
        },
        "outputId": "25dbe0d2-109e-450a-d5e4-b199d33deadd"
      },
      "cell_type": "code",
      "source": [
        "print(\"PCA & Linear svm\")\n",
        "start_time1 = time.time()\n",
        "svm_classifier1=svm.LinearSVC(max_iter=10000)\n",
        "svm_classifier1.fit(PCA_train_Coeff_DataFrame,Datatrain_label)\n",
        "\n",
        "Expected_va_1 =Datatest_label \n",
        "Predicted_va_1= svm_classifier1.predict(PCA_test_Coeff_DataFrame)\n",
        "\n",
        "print(\"---Processing time    %s    seconds ---\" % (time.time() - start_time1))\n",
        "print(\"Confusion matrix:\\n%s\" % metrics.confusion_matrix(Expected_va_1, Predicted_va_1))\n",
        "print(\"Accuracy: %0.4f\" % metrics.accuracy_score(Expected_va_1, Predicted_va_1))"
      ],
      "execution_count": 109,
      "outputs": [
        {
          "output_type": "stream",
          "text": [
            "PCA & Linear svm\n",
            "---Processing time    1.1168904304504395    seconds ---\n",
            "Confusion matrix:\n",
            "[[99  0  0  0  0  0  0  0  1  0]\n",
            " [ 0 95  0  0  0  0  1  2  2  0]\n",
            " [ 1  1 88  0  0  0  5  2  3  0]\n",
            " [ 0  0  1 91  0  2  0  3  3  0]\n",
            " [ 0  0  0  0 88  0  2  0  1  9]\n",
            " [ 0  1  0  3  0 83  7  0  6  0]\n",
            " [ 0  0  2  0  0  1 97  0  0  0]\n",
            " [ 0  2  1  2  1  0  1 92  0  1]\n",
            " [ 1  0  4  2  2  5  2  2 80  2]\n",
            " [ 0  1  0  0  7  1  0  0  0 91]]\n",
            "Accuracy: 0.9040\n"
          ],
          "name": "stdout"
        }
      ]
    },
    {
      "metadata": {
        "id": "epxr8K_v_Mox",
        "colab_type": "code",
        "colab": {
          "base_uri": "https://localhost:8080/",
          "height": 252
        },
        "outputId": "97ba1089-d017-4dd8-b02e-2bf99099c1b9"
      },
      "cell_type": "code",
      "source": [
        "print(\"DCT & Linear svm\")\n",
        "start_time2 = time.time()\n",
        "svm_classifier2=svm.LinearSVC(max_iter=10000)\n",
        "svm_classifier2.fit(DCT_train_Coeff_DataFrame, Datatrain_label)\n",
        "\n",
        "Expected_va_2 =Datatest_label \n",
        "Predicted_va_2 = svm_classifier2.predict(DCT_test_Coeff_DataFrame)\n",
        "\n",
        "print(\"---Processing time    %s    seconds ---\" % (time.time() - start_time2))\n",
        "print(\"Confusion matrix:\\n%s\" % metrics.confusion_matrix(Expected_va_2, Predicted_va_2))\n",
        "print(\"Accuracy: %0.4f\" % metrics.accuracy_score(Expected_va_2, Predicted_va_2))"
      ],
      "execution_count": 106,
      "outputs": [
        {
          "output_type": "stream",
          "text": [
            "DCT & Linear svm\n",
            "---Processing time 0.7193331718444824 seconds ---\n",
            "Confusion matrix:\n",
            "[[99  0  0  0  0  0  0  0  1  0]\n",
            " [ 0 95  0  0  0  0  1  2  2  0]\n",
            " [ 1  1 87  1  0  0  5  2  3  0]\n",
            " [ 0  0  1 90  0  3  0  3  3  0]\n",
            " [ 0  1  0  0 90  0  1  0  0  8]\n",
            " [ 0  1  0  2  1 85  5  1  5  0]\n",
            " [ 0  0  1  0  1  1 97  0  0  0]\n",
            " [ 0  1  1  1  2  0  0 92  0  3]\n",
            " [ 1  1  1  1  1  4  2  2 87  0]\n",
            " [ 0  1  1  0  6  0  0  0  0 92]]\n",
            "Accuracy: 0.9140\n"
          ],
          "name": "stdout"
        }
      ]
    },
    {
      "metadata": {
        "id": "LADezKtZ__Y7",
        "colab_type": "code",
        "colab": {
          "base_uri": "https://localhost:8080/",
          "height": 252
        },
        "outputId": "19121eb7-34aa-4f95-a859-871dc5eb69d8"
      },
      "cell_type": "code",
      "source": [
        "print(\"PCA & Non linear svm\")\n",
        "start_time3 = time.time()\n",
        "svm_classifier_Non_pca = svm.SVC(kernel=\"rbf\",gamma='auto', C=5,cache_size=800,max_iter=10000 )\n",
        "svm_classifier_Non_pca.fit(PCA_train_Coeff_DataFrame, Datatrain_label)\n",
        "\n",
        "Expected_va_3 =Datatest_label \n",
        "Predicted_va_3 = svm_classifier_Non_pca.predict(PCA_test_Coeff_DataFrame)\n",
        "\n",
        "print(\"--- Processing time    %s    seconds ---\" % (time.time() - start_time3))\n",
        "print(\"Confusion matrix:\\n%s\" % metrics.confusion_matrix(Expected_va_3, Predicted_va_3))\n",
        "print(\"Accuracy: %0.4f\" % metrics.accuracy_score(Expected_va_3, Predicted_va_3))"
      ],
      "execution_count": 107,
      "outputs": [
        {
          "output_type": "stream",
          "text": [
            "PCA & Non linear svm\n",
            "--- Processing time 14.461113452911377 seconds ---\n",
            "Confusion matrix:\n",
            "[[96  0  0  0  0  4  0  0  0  0]\n",
            " [ 0 98  0  0  0  1  1  0  0  0]\n",
            " [ 0  1 83  1  1  0  5  3  5  1]\n",
            " [ 0  0  1 86  0  7  2  2  2  0]\n",
            " [ 0  0  0  0 85  1  2  0  0 12]\n",
            " [ 0  2  0  3  1 86  8  0  0  0]\n",
            " [ 0  0  3  0  1  2 94  0  0  0]\n",
            " [ 0  5  2  0  2  0  0 86  2  3]\n",
            " [ 0  1  2  4  0  7  2  2 78  4]\n",
            " [ 0  1  1  0  6  0  0  0  1 91]]\n",
            "Accuracy: 0.8830\n"
          ],
          "name": "stdout"
        }
      ]
    },
    {
      "metadata": {
        "id": "SJaK65OjAEqZ",
        "colab_type": "code",
        "colab": {
          "base_uri": "https://localhost:8080/",
          "height": 252
        },
        "outputId": "fa628760-28d7-46fb-ba1b-a4b962246ee5"
      },
      "cell_type": "code",
      "source": [
        "print(\"DCT & Non linear svm\")\n",
        "start_time4 = time.time()\n",
        "svm_classifier_Non_dct = svm.SVC(kernel=\"rbf\",gamma='auto',C=5,cache_size=800,max_iter=10000 )\n",
        "svm_classifier_Non_dct.fit(DCT_train_Coeff_DataFrame, Datatrain_label)\n",
        "\n",
        "Expected_va_4 =Datatest_label \n",
        "Predicted_va_4= svm_classifier_Non_dct.predict(DCT_test_Coeff_DataFrame)\n",
        "\n",
        "print(\"--- Processing time    %s    seconds ---\" % (time.time() - start_time4))\n",
        "print(\"Confusion matrix:\\n%s\" % metrics.confusion_matrix(Expected_va_4, Predicted_va_4))\n",
        "print(\"Accuracy: %0.4f\" % metrics.accuracy_score(Expected_va_4, Predicted_va_4))"
      ],
      "execution_count": 108,
      "outputs": [
        {
          "output_type": "stream",
          "text": [
            "DCT & Non linear svm\n",
            "--- Processing time 6.599713563919067 seconds ---\n",
            "Confusion matrix:\n",
            "[[96  0  0  0  0  4  0  0  0  0]\n",
            " [ 0 97  0  0  0  1  1  0  1  0]\n",
            " [ 2  1 85  0  1  1  4  2  3  1]\n",
            " [ 0  0  1 89  0  5  0  1  3  1]\n",
            " [ 0  0  0  1 85  0  3  0  0 11]\n",
            " [ 0  2  0  2  1 88  6  0  1  0]\n",
            " [ 0  0  3  0  1  2 94  0  0  0]\n",
            " [ 0  4  3  0  2  0  0 85  1  5]\n",
            " [ 1  3  1  3  0  7  1  3 79  2]\n",
            " [ 0  1  1  0  5  0  0  1  0 92]]\n",
            "Accuracy: 0.8900\n"
          ],
          "name": "stdout"
        }
      ]
    }
  ]
}